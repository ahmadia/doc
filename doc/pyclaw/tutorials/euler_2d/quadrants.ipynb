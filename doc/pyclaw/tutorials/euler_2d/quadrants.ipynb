{
 "metadata": {
  "name": "Quadrants"
 },
 "nbformat": 3,
 "nbformat_minor": 0,
 "worksheets": [
  {
   "cells": [
    {
     "cell_type": "code",
     "collapsed": false,
     "input": [
      "from clawpack import pyclaw\n",
      "from clawpack import riemann\n",
      "\n",
      "solver = pyclaw.ClawSolver2D(riemann.euler_4wave_2D)\n",
      "solver.all_bcs = pyclaw.BC.extrap\n",
      "\n",
      "domain = pyclaw.Domain([0.,0.],[1.,1.],[100,100])\n",
      "solution = pyclaw.Solution(solver.num_eqn,domain)\n",
      "gamma = 1.4\n",
      "solution.problem_data['gamma']  = gamma\n",
      "solver.dimensional_split = False\n",
      "solver.transverse_waves = 2\n",
      "\n",
      "# Set initial data\n",
      "xx,yy = domain.grid.p_centers\n",
      "l = xx<0.8; r = xx>=0.8; b = yy<0.8; t = yy>=0.8\n",
      "solution.q[0,...] = 1.5*r*t + 0.532258064516129*l*t + 0.137992831541219*l*b + 0.532258064516129*r*b\n",
      "u = 0.*r*t + 1.206045378311055*l*t + 1.206045378311055*l*b + 0.*r*b\n",
      "v = 0.*r*t + 0.*l*t + 1.206045378311055*l*b + 1.206045378311055*r*b\n",
      "p = 1.5*r*t + 0.3*l*t + 0.029032258064516*l*b + 0.3*r*b\n",
      "solution.q[1,...] = solution.q[0,...] * u\n",
      "solution.q[2,...] = solution.q[0,...] * v\n",
      "solution.q[3,...] = 0.5*solution.q[0,...]*(u**2+v**2) + p/(gamma-1.)\n",
      "\n",
      "#solver.evolve_to_time(solution,tend=0.3)\n",
      "claw = pyclaw.Controller()\n",
      "claw.tfinal = 0.8\n",
      "claw.keep_copy = True\n",
      "claw.solution = solution\n",
      "claw.solver = solver\n",
      "\n",
      "status = claw.run()"
     ],
     "language": "python",
     "metadata": {},
     "outputs": [
      {
       "output_type": "stream",
       "stream": "stdout",
       "text": [
        "2013-08-12 19:51:24,323 INFO CLAW: Solution 0 computed for time t=0.000000\n"
       ]
      },
      {
       "output_type": "stream",
       "stream": "stdout",
       "text": [
        "2013-08-12 19:51:24,603 INFO CLAW: Solution 1 computed for time t=0.080000\n"
       ]
      },
      {
       "output_type": "stream",
       "stream": "stdout",
       "text": [
        "2013-08-12 19:51:24,877 INFO CLAW: Solution 2 computed for time t=0.160000\n"
       ]
      },
      {
       "output_type": "stream",
       "stream": "stdout",
       "text": [
        "2013-08-12 19:51:25,156 INFO CLAW: Solution 3 computed for time t=0.240000\n"
       ]
      },
      {
       "output_type": "stream",
       "stream": "stdout",
       "text": [
        "2013-08-12 19:51:25,439 INFO CLAW: Solution 4 computed for time t=0.320000\n"
       ]
      },
      {
       "output_type": "stream",
       "stream": "stdout",
       "text": [
        "2013-08-12 19:51:25,741 INFO CLAW: Solution 5 computed for time t=0.400000\n"
       ]
      },
      {
       "output_type": "stream",
       "stream": "stdout",
       "text": [
        "2013-08-12 19:51:26,050 INFO CLAW: Solution 6 computed for time t=0.480000\n"
       ]
      },
      {
       "output_type": "stream",
       "stream": "stdout",
       "text": [
        "2013-08-12 19:51:26,350 INFO CLAW: Solution 7 computed for time t=0.560000\n"
       ]
      },
      {
       "output_type": "stream",
       "stream": "stdout",
       "text": [
        "2013-08-12 19:51:26,667 INFO CLAW: Solution 8 computed for time t=0.640000\n"
       ]
      },
      {
       "output_type": "stream",
       "stream": "stdout",
       "text": [
        "2013-08-12 19:51:26,992 INFO CLAW: Solution 9 computed for time t=0.720000\n"
       ]
      },
      {
       "output_type": "stream",
       "stream": "stdout",
       "text": [
        "2013-08-12 19:51:27,317 INFO CLAW: Solution 10 computed for time t=0.800000\n"
       ]
      }
     ],
     "prompt_number": 1
    },
    {
     "cell_type": "code",
     "collapsed": false,
     "input": [
      "import matplotlib.pyplot as plt\n",
      "\n",
      "for n in xrange(11):\n",
      "    fig = plt.figure()\n",
      "    axes = fig.add_subplot(111)\n",
      "    plot = axes.pcolor(claw.frames[n].q[0,:,:])\n",
      "    fig.colorbar(plot)\n",
      "\n",
      "plt.show()\n",
      "\n",
      "    \n"
     ],
     "language": "python",
     "metadata": {},
     "outputs": [],
     "prompt_number": 2
    }
   ],
   "metadata": {}
  }
 ]
}